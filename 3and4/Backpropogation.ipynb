{
 "cells": [
  {
   "cell_type": "code",
   "execution_count": 5,
   "metadata": {
    "id": "iX8heVejHVKu"
   },
   "outputs": [],
   "source": [
    "import numpy as np\n",
    "X = np.array(([2, 9], [1, 5], [3, 6]), dtype=float)\n",
    "y = np.array(([92], [86], [89]), dtype=float)\n",
    "X = X/np.amax(X,axis=0) # maximum of X array longitudinally\n",
    "y = y/100 "
   ]
  },
  {
   "cell_type": "code",
   "execution_count": 6,
   "metadata": {
    "id": "un3n7l1AHcU5"
   },
   "outputs": [],
   "source": [
    "#Sigmoid Function\n",
    "def sigmoid (x):\n",
    "   return 1/(1 + np.exp(-x))\n",
    "\n",
    "#Derivative of Sigmoid Function\n",
    "def derivatives_sigmoid(x):\n",
    "    return x * (1 - x) "
   ]
  },
  {
   "cell_type": "code",
   "execution_count": 7,
   "metadata": {
    "id": "rPJxnkawIOjm"
   },
   "outputs": [],
   "source": [
    "#Variable initialization\n",
    "\n",
    "epoch=7000 #Setting training iterations\n",
    "lr=0.1 #Setting learning rate \n",
    "inputlayer_neurons = 2 #number of features in data set\n",
    "hiddenlayer_neurons = 3 #number of hidden layers neurons\n",
    "output_neurons = 1 #number of neurons at output layer\n",
    "\n",
    "#weight and bias initialization\n",
    "w1=np.random.uniform(size=(inputlayer_neurons,hiddenlayer_neurons))\n",
    "b1=np.random.uniform(size=(1,hiddenlayer_neurons))\n",
    "w2=np.random.uniform(size=(hiddenlayer_neurons,output_neurons))\n",
    "b2=np.random.uniform(size=(1,output_neurons))"
   ]
  },
  {
   "cell_type": "code",
   "execution_count": 8,
   "metadata": {
    "colab": {
     "base_uri": "https://localhost:8080/"
    },
    "id": "bW0G-augIcpe",
    "outputId": "503dede6-d968-4e47-f330-76a38eb61306"
   },
   "outputs": [
    {
     "output_type": "stream",
     "name": "stdout",
     "text": [
      "Input: \n[[0.66666667 1.        ]\n [0.33333333 0.55555556]\n [1.         0.66666667]]\nActual Output: \n[[0.92]\n [0.86]\n [0.89]]\nPredicted Output: \n [[0.89539272]\n [0.87676146]\n [0.89644735]]\n"
     ]
    }
   ],
   "source": [
    "for i in range(epoch):\n",
    " #Forward Propogation\n",
    "   z1= np.dot(X,w1) + b1\n",
    "   a1= sigmoid(z1) \n",
    "   z2= np.dot(a1,w2) + b2\n",
    "   a2= sigmoid(z2)\n",
    " #Backpropagation\n",
    "   da2=y-a2\n",
    "   dz2=da2*(derivatives_sigmoid(a2))\n",
    "   da1=dz2.dot(w2.T)\n",
    "   dz1=da1*(derivatives_sigmoid(a1))\n",
    " #wieght and bias update \n",
    "   w2= w2 + a1.T.dot(dz2)*lr\n",
    "   b2= b2 + np.sum(dz2, axis=0, keepdims=True)*lr\n",
    "   w1= w1 + X.T.dot(dz1)*lr\n",
    "   b1= b1 + np.sum(dz1, axis=0, keepdims=True)*lr\n",
    "\n",
    "print(\"Input: \\n\" + str(X))\n",
    "print(\"Actual Output: \\n\" + str(y))\n",
    "print(\"Predicted Output: \\n\" , a2) "
   ]
  },
  {
   "cell_type": "code",
   "execution_count": null,
   "metadata": {},
   "outputs": [],
   "source": []
  }
 ],
 "metadata": {
  "colab": {
   "name": "Backpropagaion.ipynb",
   "provenance": []
  },
  "kernelspec": {
   "display_name": "Python 3",
   "language": "python",
   "name": "python3"
  },
  "language_info": {
   "codemirror_mode": {
    "name": "ipython",
    "version": 3
   },
   "file_extension": ".py",
   "mimetype": "text/x-python",
   "name": "python",
   "nbconvert_exporter": "python",
   "pygments_lexer": "ipython3",
   "version": "3.8.2-final"
  }
 },
 "nbformat": 4,
 "nbformat_minor": 4
}